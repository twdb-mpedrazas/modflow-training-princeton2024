{
 "cells": [
  {
   "cell_type": "markdown",
   "id": "09cd4c0d-ed77-4b8d-9d65-fccdf103d008",
   "metadata": {},
   "source": [
    "## Create a model with Advanced Packages - Part 2\n",
    "\n",
    "Load model from Part 1 and amend with UZF & MVR, rerun and look at the MVR budget"
   ]
  },
  {
   "cell_type": "code",
   "execution_count": 3,
   "id": "ccf2fce9-eced-4882-a807-6b4719522412",
   "metadata": {},
   "outputs": [],
   "source": [
    "import flopy\n",
    "import numpy as np\n",
    "from pathlib import Path\n",
    "import matplotlib.pyplot as plt"
   ]
  },
  {
   "cell_type": "markdown",
   "id": "3ee4cbe9-8b6e-4eb8-a807-ade0eae794a4",
   "metadata": {},
   "source": [
    "### Load the model we just built"
   ]
  },
  {
   "cell_type": "code",
   "execution_count": 4,
   "id": "50d232a7-3398-45e0-ad59-3ee225a120cd",
   "metadata": {},
   "outputs": [
    {
     "name": "stdout",
     "output_type": "stream",
     "text": [
      "loading simulation...\n",
      "  loading simulation name file...\n",
      "  loading tdis package...\n",
      "  loading model gwf6...\n",
      "    loading package dis...\n",
      "    loading package obs...\n",
      "    loading package npf...\n",
      "    loading package sto...\n",
      "    loading package ic...\n",
      "    loading package chd...\n",
      "    loading package rch...\n",
      "    loading package evt...\n",
      "    loading package oc...\n",
      "    loading package lak...\n",
      "    loading package lak...\n",
      "    loading package lak...\n",
      "    loading package sfr...\n",
      "    loading package maw...\n",
      "    loading package sfr...\n",
      "    loading package maw...\n",
      "  loading solution package ad-p1...\n"
     ]
    }
   ],
   "source": [
    "name = \"ad-p1\"\n",
    "ws = Path(f\"./temp/{name}\")\n",
    "\n",
    "sim = flopy.mf6.MFSimulation.load(\n",
    "    sim_name=name,\n",
    "    exe_name=\"mf6\",\n",
    "    sim_ws=ws,\n",
    ")"
   ]
  },
  {
   "cell_type": "markdown",
   "id": "39bb1ef2-26c4-4c9e-8855-c2058f15e671",
   "metadata": {},
   "source": [
    "### Get the GWF model"
   ]
  },
  {
   "cell_type": "code",
   "execution_count": 5,
   "id": "f2e5cf5e-6aaa-49fc-9730-f3e836f5f813",
   "metadata": {},
   "outputs": [],
   "source": [
    "gwf = sim.get_model(\"ad-p1\")\n",
    "\n",
    "# get some needed parameter values\n",
    "nlay = gwf.dis.nlay.array"
   ]
  },
  {
   "cell_type": "markdown",
   "id": "64d87ffc-d8c1-4a52-ac35-835cb968fa11",
   "metadata": {},
   "source": [
    "### Add the UZF package"
   ]
  },
  {
   "cell_type": "code",
   "execution_count": 6,
   "id": "fa2928aa-0cbc-4221-8c18-8186838f4109",
   "metadata": {},
   "outputs": [],
   "source": [
    "# Define which row/column index the stack of uzf objects will appear in.\n",
    "# Recall that the pumping well is in row, column = 3, 13.\n",
    "# Place an irrigated field one column to the right (downhill)\n",
    "uzf_row, uzf_col = 3, 14\n",
    "vks = 0.1  # 0.001\n",
    "thts = gwf.sto.sy.array[0,0,0]\n",
    "thtr = 0.01\n",
    "thti = 0.05\n",
    "eps = 4\n",
    "\n",
    "uzf_pkdat = []\n",
    "\n",
    "for iuzno in np.arange(0, nlay, 1):\n",
    "    # only the top layer is needs land flag = 1\n",
    "    if iuzno == 0:\n",
    "        landflag = 1\n",
    "        surfdep = 0.1\n",
    "    else:\n",
    "        landflag = 0\n",
    "        surfdep = 0.0\n",
    "\n",
    "    # all but the bottom most layer have a vertical connection\n",
    "    if iuzno < nlay - 1:\n",
    "        ivertconn = iuzno + 1\n",
    "    else:\n",
    "        # bottom layer\n",
    "        ivertconn = -1\n",
    "        \n",
    "    # Add the UZF object to the packagedata list object\n",
    "    uzf_pkdat.append(\n",
    "        # ifno, cellid(l, r, c),           landflag,  ivertcon, surfdep, vks, thtr, thts, thti, eps\n",
    "        [iuzno, (iuzno, uzf_row, uzf_col), landflag, ivertconn, surfdep, vks, thtr, thts, thti, eps]\n",
    "    )\n",
    "\n",
    "# stress period data\n",
    "finf = 0.0\n",
    "pet = 0.0\n",
    "extdp = 0.0\n",
    "extwc = 0.0\n",
    "zero = 0.0\n",
    "\n",
    "uzf_spd = {\n",
    "    0: [[0, finf, pet, extdp, extwc, zero, zero, zero]],\n",
    "}\n"
   ]
  },
  {
   "cell_type": "code",
   "execution_count": 12,
   "id": "50f24b0e-54a9-4101-bc20-d830222862bf",
   "metadata": {},
   "outputs": [
    {
     "name": "stdout",
     "output_type": "stream",
     "text": [
      "WARNING: Package with name uzf already exists. Replacing existing package.\n"
     ]
    }
   ],
   "source": [
    "uzf = flopy.mf6.ModflowGwfuzf(\n",
    "        gwf,\n",
    "        print_flows=True,\n",
    "        save_flows=True,\n",
    "        wc_filerecord=name + \".uzfwc.bin\",\n",
    "        simulate_et=False,\n",
    "        simulate_gwseep=False,\n",
    "        linear_gwet=False,\n",
    "        boundnames=False,\n",
    "        ntrailwaves=15,\n",
    "        nwavesets=40,\n",
    "        #observations=uzf_obs,\n",
    "        nuzfcells=len(uzf_pkdat),\n",
    "        packagedata=uzf_pkdat,\n",
    "        perioddata=uzf_spd,\n",
    "        budget_filerecord=f\"{name}.uzf.bud\",\n",
    "        pname=\"UZF\",\n",
    "        filename=f\"{name}.uzf\",\n",
    "    )"
   ]
  },
  {
   "cell_type": "markdown",
   "id": "5b6e620c-6150-4bba-92dd-d52c140ccd56",
   "metadata": {},
   "source": [
    "### Setup MVR package\n",
    "\n",
    "Retrieve package names:"
   ]
  },
  {
   "cell_type": "code",
   "execution_count": 13,
   "id": "eca3319c-d25c-4479-a586-c2bebdab2121",
   "metadata": {},
   "outputs": [
    {
     "ename": "AttributeError",
     "evalue": "'list' object has no attribute 'package_name'",
     "output_type": "error",
     "traceback": [
      "\u001b[1;31m---------------------------------------------------------------------------\u001b[0m",
      "\u001b[1;31mAttributeError\u001b[0m                            Traceback (most recent call last)",
      "Cell \u001b[1;32mIn[13], line 1\u001b[0m\n\u001b[1;32m----> 1\u001b[0m lak_nm \u001b[38;5;241m=\u001b[39m \u001b[43mgwf\u001b[49m\u001b[38;5;241;43m.\u001b[39;49m\u001b[43mlak\u001b[49m\u001b[38;5;241;43m.\u001b[39;49m\u001b[43mpackage_name\u001b[49m\n\u001b[0;32m      2\u001b[0m sfr_nm \u001b[38;5;241m=\u001b[39m gwf\u001b[38;5;241m.\u001b[39msfr\u001b[38;5;241m.\u001b[39mpackage_name\n\u001b[0;32m      3\u001b[0m maw_nm \u001b[38;5;241m=\u001b[39m gwf\u001b[38;5;241m.\u001b[39mmaw\u001b[38;5;241m.\u001b[39mpackage_name\n",
      "\u001b[1;31mAttributeError\u001b[0m: 'list' object has no attribute 'package_name'"
     ]
    }
   ],
   "source": [
    "lak_nm = gwf.lak.package_name\n",
    "sfr_nm = gwf.sfr.package_name\n",
    "maw_nm = gwf.maw.package_name\n",
    "uzf_nm = gwf.uzf.package_name"
   ]
  },
  {
   "cell_type": "markdown",
   "id": "33a92159-c882-42e2-936c-958fb75962b6",
   "metadata": {},
   "source": [
    "### Update packages included in the MVR package"
   ]
  },
  {
   "cell_type": "code",
   "execution_count": 9,
   "id": "7181941b-4486-49ed-8102-8732cb636f75",
   "metadata": {},
   "outputs": [
    {
     "ename": "AttributeError",
     "evalue": "'list' object has no attribute 'mover'",
     "output_type": "error",
     "traceback": [
      "\u001b[1;31m---------------------------------------------------------------------------\u001b[0m",
      "\u001b[1;31mAttributeError\u001b[0m                            Traceback (most recent call last)",
      "Cell \u001b[1;32mIn[9], line 2\u001b[0m\n\u001b[0;32m      1\u001b[0m \u001b[38;5;66;03m# activate the mover option within every package that will be used as a provider or a receiver\u001b[39;00m\n\u001b[1;32m----> 2\u001b[0m \u001b[43mgwf\u001b[49m\u001b[38;5;241;43m.\u001b[39;49m\u001b[43msfr\u001b[49m\u001b[38;5;241;43m.\u001b[39;49m\u001b[43mmover\u001b[49m \u001b[38;5;241m=\u001b[39m \u001b[38;5;28;01mTrue\u001b[39;00m\n\u001b[0;32m      3\u001b[0m gwf\u001b[38;5;241m.\u001b[39mlak\u001b[38;5;241m.\u001b[39mmover \u001b[38;5;241m=\u001b[39m \u001b[38;5;28;01mTrue\u001b[39;00m\n\u001b[0;32m      4\u001b[0m gwf\u001b[38;5;241m.\u001b[39mmaw\u001b[38;5;241m.\u001b[39mmover \u001b[38;5;241m=\u001b[39m \u001b[38;5;28;01mTrue\u001b[39;00m\n",
      "\u001b[1;31mAttributeError\u001b[0m: 'list' object has no attribute 'mover'"
     ]
    }
   ],
   "source": [
    "# activate the mover option within every package that will be used as a provider or a receiver\n",
    "gwf.sfr.mover = True\n",
    "gwf.lak.mover = True\n",
    "gwf.maw.mover = True\n",
    "gwf.uzf.mover = True\n",
    "\n",
    "#gwf.sfr.save_flows = True\n",
    "\n",
    "# add an outlet to the lake package\n",
    "gwf.lak.noutlet = 1\n",
    "#                  outletno, lakein, lakeout, couttype, invert, width, rough, slope\n",
    "gwf.lak.outlets = [(      0,      0,       0, 'manning', 130.0,  50.0,  0.03, 0.01)]"
   ]
  },
  {
   "cell_type": "code",
   "execution_count": 10,
   "id": "3854d120-3672-470c-81af-58ec98b97753",
   "metadata": {},
   "outputs": [
    {
     "ename": "NameError",
     "evalue": "name 'lak_nm' is not defined",
     "output_type": "error",
     "traceback": [
      "\u001b[1;31m---------------------------------------------------------------------------\u001b[0m",
      "\u001b[1;31mNameError\u001b[0m                                 Traceback (most recent call last)",
      "Cell \u001b[1;32mIn[10], line 1\u001b[0m\n\u001b[1;32m----> 1\u001b[0m packages \u001b[38;5;241m=\u001b[39m [(\u001b[43mlak_nm\u001b[49m,), (sfr_nm,), (maw_nm,), (uzf_nm,)]\n\u001b[0;32m      2\u001b[0m pump_frac \u001b[38;5;241m=\u001b[39m \u001b[38;5;241m0.5\u001b[39m\n\u001b[0;32m      4\u001b[0m mvr_pkdat \u001b[38;5;241m=\u001b[39m []\n",
      "\u001b[1;31mNameError\u001b[0m: name 'lak_nm' is not defined"
     ]
    }
   ],
   "source": [
    "packages = [(lak_nm,), (sfr_nm,), (maw_nm,), (uzf_nm,)]\n",
    "pump_frac = 0.5\n",
    "\n",
    "mvr_pkdat = []\n",
    "\n",
    "# lak -> sfr (lake outlet)\n",
    "mvr_pkdat.append([lak_nm, 0, sfr_nm, 0, \"factor\", 1.0])\n",
    "\n",
    "# maw -> uzf (gw irrigation)\n",
    "mvr_pkdat.append([maw_nm, 0, uzf_nm, 0, \"factor\", pump_frac])\n",
    "\n",
    "# maw -> sfr (pump to stream for delivery somewhere downstream)\n",
    "mvr_pkdat.append([maw_nm, 0, sfr_nm, 2, \"factor\", 1 - pump_frac])\n",
    "\n",
    "# uzf -> sfr (irrigation tail-water plus any other runoff\n",
    "mvr_pkdat.append([uzf_nm, 0, sfr_nm, 2, \"factor\", 1.0])\n",
    "\n",
    "flopy.mf6.ModflowGwfmvr(\n",
    "    gwf,\n",
    "    maxmvr=len(mvr_pkdat),\n",
    "    budget_filerecord=f\"{name}.mvr.bud\",\n",
    "    maxpackages=len(packages),\n",
    "    print_flows=True,\n",
    "    packages=packages,\n",
    "    perioddata=mvr_pkdat,\n",
    ")"
   ]
  },
  {
   "cell_type": "markdown",
   "id": "3a871bef-ab79-4caf-b7af-5c33a7736419",
   "metadata": {},
   "source": [
    "### Write the simulation"
   ]
  },
  {
   "cell_type": "code",
   "execution_count": null,
   "id": "fd2eb7f0-ff14-44e7-b706-8d12a083a485",
   "metadata": {},
   "outputs": [],
   "source": [
    "sim.write_simulation()"
   ]
  },
  {
   "cell_type": "markdown",
   "id": "e8dc3726-3a38-4a7a-995a-750df45d7d7b",
   "metadata": {},
   "source": [
    "### Run the simulation"
   ]
  },
  {
   "cell_type": "code",
   "execution_count": null,
   "id": "fc541f49-76c5-4c89-98cf-ed4a7e43c51c",
   "metadata": {},
   "outputs": [],
   "source": [
    "sim.run_simulation()"
   ]
  },
  {
   "cell_type": "markdown",
   "id": "954585bd-c65d-4336-87ec-42ffbeffad39",
   "metadata": {},
   "source": [
    "### Have another look at the output"
   ]
  },
  {
   "cell_type": "code",
   "execution_count": null,
   "id": "20c402f3-6606-416f-bc18-6c55bc78dece",
   "metadata": {},
   "outputs": [],
   "source": [
    "extents = (0.0, gwf.dis.delr.array.sum(), 0.0, gwf.dis.delc.array.sum())\n",
    "\n",
    "# load the observations\n",
    "lak_results = gwf.lak.output.obs().data\n",
    "sfr_results = gwf.sfr.output.obs().data\n",
    "gwf_results = gwf.obs[0].output.obs().data\n",
    "\n",
    "# Figure properties\n",
    "figure_size = (6.3, 5.6)\n",
    "masked_values = (0, 1e30, -1e30)\n",
    "\n",
    "# create MODFLOW 6 head object\n",
    "hobj = gwf.output.head()\n",
    "\n",
    "# create MODFLOW 6 cell-by-cell budget object\n",
    "cobj = gwf.output.budget()\n",
    "\n",
    "kstpkper = hobj.get_kstpkper()\n",
    "\n",
    "head = hobj.get_data(kstpkper=kstpkper[0])\n",
    "qx, qy, qz = flopy.utils.postprocessing.get_specific_discharge(\n",
    "cobj.get_data(text=\"DATA-SPDIS\", kstpkper=kstpkper[0])[0],\n",
    "gwf,\n",
    ")\n",
    "\n",
    "# add lake stage to heads\n",
    "head[head == 1e30] = lak_results[\"STAGE\"][-1]\n",
    "\n",
    "# observation locations\n",
    "xcenters, ycenters = gwf.modelgrid.xycenters[0], gwf.modelgrid.xycenters[1]\n",
    "p1 = (xcenters[3], ycenters[3])\n",
    "p2 = (xcenters[13], ycenters[13])\n",
    "\n",
    "shape3d = (gwf.dis.nlay.array, gwf.dis.nrow.array, gwf.dis.ncol.array)"
   ]
  },
  {
   "cell_type": "code",
   "execution_count": 2,
   "id": "2a46f3fb-9cc9-456c-8d60-61bfbb3b83da",
   "metadata": {},
   "outputs": [
    {
     "name": "stderr",
     "output_type": "stream",
     "text": [
      "C:\\Users\\mpedraza\\AppData\\Local\\miniforge3\\envs\\mfandmore2024\\Lib\\site-packages\\IPython\\core\\pylabtools.py:77: DeprecationWarning: backend2gui is deprecated since IPython 8.24, backends are managed in matplotlib and can be externally registered.\n",
      "  warnings.warn(\n",
      "C:\\Users\\mpedraza\\AppData\\Local\\miniforge3\\envs\\mfandmore2024\\Lib\\site-packages\\IPython\\core\\pylabtools.py:77: DeprecationWarning: backend2gui is deprecated since IPython 8.24, backends are managed in matplotlib and can be externally registered.\n",
      "  warnings.warn(\n",
      "C:\\Users\\mpedraza\\AppData\\Local\\miniforge3\\envs\\mfandmore2024\\Lib\\site-packages\\IPython\\core\\pylabtools.py:77: DeprecationWarning: backend2gui is deprecated since IPython 8.24, backends are managed in matplotlib and can be externally registered.\n",
      "  warnings.warn(\n"
     ]
    },
    {
     "ename": "NameError",
     "evalue": "name 'gwf' is not defined",
     "output_type": "error",
     "traceback": [
      "\u001b[1;31m---------------------------------------------------------------------------\u001b[0m",
      "\u001b[1;31mNameError\u001b[0m                                 Traceback (most recent call last)",
      "Cell \u001b[1;32mIn[2], line 12\u001b[0m\n\u001b[0;32m      1\u001b[0m fig, axd \u001b[38;5;241m=\u001b[39m plt\u001b[38;5;241m.\u001b[39msubplot_mosaic(\n\u001b[0;32m      2\u001b[0m     [\n\u001b[0;32m      3\u001b[0m         [\u001b[38;5;124m\"\u001b[39m\u001b[38;5;124ma\u001b[39m\u001b[38;5;124m\"\u001b[39m],\n\u001b[1;32m   (...)\u001b[0m\n\u001b[0;32m      8\u001b[0m     figsize\u001b[38;5;241m=\u001b[39m(\u001b[38;5;241m4\u001b[39m, \u001b[38;5;241m6.9\u001b[39m),\n\u001b[0;32m      9\u001b[0m     )\n\u001b[0;32m     11\u001b[0m ax \u001b[38;5;241m=\u001b[39m axd[\u001b[38;5;124m\"\u001b[39m\u001b[38;5;124ma\u001b[39m\u001b[38;5;124m\"\u001b[39m]\n\u001b[1;32m---> 12\u001b[0m mm \u001b[38;5;241m=\u001b[39m flopy\u001b[38;5;241m.\u001b[39mplot\u001b[38;5;241m.\u001b[39mPlotMapView(\u001b[43mgwf\u001b[49m, ax\u001b[38;5;241m=\u001b[39max, extent\u001b[38;5;241m=\u001b[39mextents)\n\u001b[0;32m     13\u001b[0m mm\u001b[38;5;241m.\u001b[39mplot_bc(\u001b[38;5;124m\"\u001b[39m\u001b[38;5;124mCHD\u001b[39m\u001b[38;5;124m\"\u001b[39m, color\u001b[38;5;241m=\u001b[39m\u001b[38;5;124m\"\u001b[39m\u001b[38;5;124mcyan\u001b[39m\u001b[38;5;124m\"\u001b[39m)\n\u001b[0;32m     14\u001b[0m mm\u001b[38;5;241m.\u001b[39mplot_inactive(color_noflow\u001b[38;5;241m=\u001b[39m\u001b[38;5;124m\"\u001b[39m\u001b[38;5;124m#5DBB63\u001b[39m\u001b[38;5;124m\"\u001b[39m)\n",
      "\u001b[1;31mNameError\u001b[0m: name 'gwf' is not defined"
     ]
    },
    {
     "data": {
      "image/png": "[encoded data removed]",
      "text/plain": [
       "<Figure size 400x690 with 2 Axes>"
      ]
     },
     "metadata": {},
     "output_type": "display_data"
    }
   ],
   "source": [
    "fig, axd = plt.subplot_mosaic(\n",
    "    [\n",
    "        [\"a\"],\n",
    "        [\"a\"],\n",
    "        [\"b\"],\n",
    "    ],\n",
    "    layout=\"constrained\", \n",
    "    figsize=(4, 6.9),\n",
    "    )\n",
    "\n",
    "ax = axd[\"a\"]\n",
    "mm = flopy.plot.PlotMapView(gwf, ax=ax, extent=extents)\n",
    "mm.plot_bc(\"CHD\", color=\"cyan\")\n",
    "mm.plot_inactive(color_noflow=\"#5DBB63\")\n",
    "mm.plot_grid(lw=0.5, color=\"black\")\n",
    "cv = mm.contour_array(\n",
    "    head,\n",
    "    levels=np.arange(140, 160, 2),\n",
    "    linewidths=0.75,\n",
    "    linestyles=\"-\",\n",
    "    colors=\"blue\",\n",
    ")\n",
    "plt.clabel(cv, fmt=\"%1.0f\")\n",
    "mm.plot_vector(qx, qy, normalize=True, color=\"0.75\")\n",
    "ax.plot(p1[0], p1[1], marker=\"o\", mfc=\"red\", mec=\"black\", ms=4)\n",
    "ax.plot(p2[0], p2[1], marker=\"o\", mfc=\"red\", mec=\"black\", ms=4)\n",
    "ax.set_xlabel(\"x-coordinate, in feet\")\n",
    "ax.set_ylabel(\"y-coordinate, in feet\")\n",
    "\n",
    "ax = axd[\"b\"]\n",
    "xs = flopy.plot.PlotCrossSection(gwf, ax=ax, line={\"row\": 8})\n",
    "xs.plot_array(np.ones(shape3d), head=head, cmap=\"jet\")\n",
    "xs.plot_bc(\"CHD\", color=\"cyan\", head=head)\n",
    "xs.plot_ibound(color_noflow=\"#5DBB63\", head=head)\n",
    "xs.plot_grid(lw=0.5, color=\"black\")\n",
    "ax.set_xlabel(\"x-coordinate, in feet\")\n",
    "ax.set_ylim(67, 160)\n",
    "ax.set_ylabel(\"Elevation, in feet\")\n",
    "\n",
    "\n",
    "plt.show()"
   ]
  },
  {
   "cell_type": "code",
   "execution_count": null,
   "id": "d66867d2-428a-428e-b2a6-a4b14d64de69",
   "metadata": {},
   "outputs": [],
   "source": [
    "print(sim.sim_path)"
   ]
  },
  {
   "cell_type": "code",
   "execution_count": null,
   "id": "c22dc53c-ad5e-4dc9-8eec-3a1762b4c37a",
   "metadata": {},
   "outputs": [],
   "source": [
    "lst_pth = ws / f\"{name}.lst\"\n",
    "budget_key = \"WATER MOVER BUDGET FOR ENTIRE MODEL AT END OF TIME STEP  100\"\n",
    "lst = flopy.utils.MfListBudget(lst_pth, budgetkey=budget_key)"
   ]
  },
  {
   "cell_type": "code",
   "execution_count": null,
   "id": "9501e034-adc1-4c5f-b6f3-a64195f5b5f7",
   "metadata": {},
   "outputs": [],
   "source": [
    "lst.get_dataframes()"
   ]
  }
 ],
 "metadata": {
  "kernelspec": {
   "display_name": "Python 3 (ipykernel)",
   "language": "python",
   "name": "python3"
  },
  "language_info": {
   "codemirror_mode": {
    "name": "ipython",
    "version": 3
   },
   "file_extension": ".py",
   "mimetype": "text/x-python",
   "name": "python",
   "nbconvert_exporter": "python",
   "pygments_lexer": "ipython3",
   "version": "3.12.0"
  }
 },
 "nbformat": 4,
 "nbformat_minor": 5
}
