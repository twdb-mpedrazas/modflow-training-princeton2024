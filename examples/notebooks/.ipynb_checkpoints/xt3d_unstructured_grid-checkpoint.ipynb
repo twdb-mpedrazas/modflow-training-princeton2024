{
 "cells": [
  {
   "cell_type": "markdown",
   "id": "fd2d384d",
   "metadata": {},
   "source": [
    "# Using XT3D for More Accurate Flows on an Unstructured Grid\n",
    "\n",
    "In this notebook we'll demonstrate the improved accuracy XT3D can provide in flow simulations on unstructured grids. The DISV grid in this example is a rectangular grid with an area of quadtree refinement in the middle. The connections between cells of different sizes violate the CVFD requirements, rendering the standard, conductance-based flow formulation less accurate.\n",
    "\n",
    "This notebook is based on the MODFLOW 6 \"Nested Grid\" ([ex-gwf-u1disv](https://modflow6-examples.readthedocs.io/en/latest/_examples/ex-gwf-u1disv.html)) example problem, which corresponds to the first example described in the MODFLOW-USG documentation."
   ]
  },
  {
   "cell_type": "markdown",
   "id": "72856e54",
   "metadata": {},
   "source": [
    "### Initial setup\n",
    "\n",
    "Import dependencies, define the example name and workspace, and read settings from environment variables."
   ]
  },
  {
   "cell_type": "code",
   "execution_count": null,
   "id": "6d62ad03",
   "metadata": {},
   "outputs": [],
   "source": [
    "import os\n",
    "import pathlib as pl\n",
    "\n",
    "import flopy\n",
    "import flopy.utils.cvfdutil\n",
    "import matplotlib.pyplot as plt\n",
    "import numpy as np\n",
    "from flopy.plot.styles import styles\n",
    "\n",
    "import warnings\n",
    "warnings.simplefilter(\"ignore\", DeprecationWarning)"
   ]
  },
  {
   "cell_type": "markdown",
   "id": "a2c23b01",
   "metadata": {},
   "source": [
    "Set file paths for this example."
   ]
  },
  {
   "cell_type": "code",
   "execution_count": null,
   "id": "06a7ce6f",
   "metadata": {},
   "outputs": [],
   "source": [
    "path_to_mf6 = \"mf6\""
   ]
  },
  {
   "cell_type": "markdown",
   "id": "113243e8",
   "metadata": {},
   "source": [
    "### Define parameters\n",
    "\n",
    "Define model units."
   ]
  },
  {
   "cell_type": "code",
   "execution_count": null,
   "id": "8346c987",
   "metadata": {},
   "outputs": [],
   "source": [
    "# Model units\n",
    "length_units = \"meters\"\n",
    "time_units = \"days\""
   ]
  },
  {
   "cell_type": "markdown",
   "id": "0448bd5b",
   "metadata": {},
   "source": [
    "Set model parameters and other settings."
   ]
  },
  {
   "cell_type": "code",
   "execution_count": null,
   "id": "d0883118",
   "metadata": {},
   "outputs": [],
   "source": [
    "strt = 0.0  # Starting head ($m$)\n",
    "icelltype = 0  # Cell conversion type\n",
    "k11 = 1.0  # Horizontal hydraulic conductivity ($m/d$)"
   ]
  },
  {
   "cell_type": "markdown",
   "id": "6c8c2908",
   "metadata": {},
   "source": [
    "### TDIS data\n",
    "Simulation has 1 steady stress period (1 day)\n",
    "and 3 transient stress periods (10 days each).\n",
    "Each transient stress period has 120 2-hour time steps."
   ]
  },
  {
   "cell_type": "code",
   "execution_count": null,
   "id": "272ff9c6",
   "metadata": {},
   "outputs": [],
   "source": [
    "nper = 1  # Number of periods\n",
    "perlen = [1.0] # period length\n",
    "nstp = [1] # nr. of timesteps\n",
    "tsmult = [1.0, 1.0, 1.0] # timestep multiplier\n",
    "tdis_ds = list(zip(perlen, nstp, tsmult)) # data set for TDIS"
   ]
  },
  {
   "cell_type": "markdown",
   "id": "d25380d2",
   "metadata": {},
   "source": [
    "### Outer grid\n",
    "Start with creating the outer grid as a FloPy structured grid object. Below we will create the inner grid and then merge the two in a single unstructured discretization-by-vertices (DISV) grid."
   ]
  },
  {
   "cell_type": "code",
   "execution_count": null,
   "id": "03c686c2",
   "metadata": {},
   "outputs": [],
   "source": [
    "nlay = 1\n",
    "nrow = ncol = 7\n",
    "top = 0.0\n",
    "botm = -100.0\n",
    "delr = 100.0 * np.ones(ncol)\n",
    "delc = 100.0 * np.ones(nrow)\n",
    "tp = np.zeros((nrow, ncol))\n",
    "bt = -100.0 * np.ones((nlay, nrow, ncol))"
   ]
  },
  {
   "cell_type": "markdown",
   "id": "01e3a836",
   "metadata": {},
   "source": [
    "Set idomain to zero (inactive) where the refined inset grid will be positioned."
   ]
  },
  {
   "cell_type": "code",
   "execution_count": null,
   "id": "22e9a5b6",
   "metadata": {},
   "outputs": [],
   "source": [
    "idomain = np.ones((nlay, nrow, ncol))\n",
    "idomain[:, 2:5, 2:5] = 0"
   ]
  },
  {
   "cell_type": "markdown",
   "id": "2865fe8b",
   "metadata": {},
   "source": [
    "Create the outer grid."
   ]
  },
  {
   "cell_type": "code",
   "execution_count": null,
   "id": "1cf61a7d",
   "metadata": {},
   "outputs": [],
   "source": [
    "sg1 = flopy.discretization.StructuredGrid(\n",
    "    delr=delr, delc=delc, top=tp, botm=bt, idomain=idomain\n",
    ")"
   ]
  },
  {
   "cell_type": "markdown",
   "id": "1e07fddb",
   "metadata": {},
   "source": [
    "### Inner grid\n",
    "\n",
    "Set geometry data."
   ]
  },
  {
   "cell_type": "code",
   "execution_count": null,
   "id": "285ef360",
   "metadata": {},
   "outputs": [],
   "source": [
    "nlay = 1\n",
    "nrow = ncol = 9\n",
    "delr = 100.0 / 3.0 * np.ones(ncol)\n",
    "delc = 100.0 / 3.0 * np.ones(nrow)\n",
    "tp = np.zeros((nrow, ncol))\n",
    "bt = -100 * np.ones((nlay, nrow, ncol))"
   ]
  },
  {
   "cell_type": "markdown",
   "id": "94112a6a",
   "metadata": {},
   "source": [
    "All cells are active so set idomain to 1 everywhere."
   ]
  },
  {
   "cell_type": "code",
   "execution_count": null,
   "id": "757f2e58",
   "metadata": {},
   "outputs": [],
   "source": [
    "idomain = np.ones((nlay, nrow, ncol))"
   ]
  },
  {
   "cell_type": "markdown",
   "id": "45728124",
   "metadata": {},
   "source": [
    "Create the grid inner, refined structured grid object."
   ]
  },
  {
   "cell_type": "code",
   "execution_count": null,
   "id": "da3aa40b",
   "metadata": {},
   "outputs": [],
   "source": [
    "sg2 = flopy.discretization.StructuredGrid(\n",
    "    delr=delr,\n",
    "    delc=delc,\n",
    "    top=tp,\n",
    "    botm=bt,\n",
    "    xoff=200.0,\n",
    "    yoff=200,\n",
    "    idomain=idomain,\n",
    ")"
   ]
  },
  {
   "cell_type": "markdown",
   "id": "de411805",
   "metadata": {},
   "source": [
    "The following utility function will convert the two FloPy structured grid object into a data structure that can be passed directly into the DISV package to create the full unstructured grid."
   ]
  },
  {
   "cell_type": "code",
   "execution_count": null,
   "id": "97ed784b",
   "metadata": {},
   "outputs": [],
   "source": [
    "gridprops = flopy.utils.cvfdutil.gridlist_to_disv_gridprops([sg1, sg2])"
   ]
  },
  {
   "cell_type": "markdown",
   "id": "a0ecf726",
   "metadata": {},
   "source": [
    "### Solver parameters"
   ]
  },
  {
   "cell_type": "code",
   "execution_count": null,
   "id": "9e00b826",
   "metadata": {},
   "outputs": [],
   "source": [
    "nouter = 50\n",
    "ninner = 100\n",
    "hclose = 1e-9\n",
    "rclose = 1e-6"
   ]
  },
  {
   "cell_type": "markdown",
   "id": "bdf05eb2",
   "metadata": {
    "lines_to_next_cell": 2
   },
   "source": [
    "### Model setup\n",
    "\n",
    "Now we are ready to set up the FloPy simulation model."
   ]
  },
  {
   "cell_type": "code",
   "execution_count": null,
   "id": "999dba54",
   "metadata": {},
   "outputs": [],
   "source": [
    "sim_ws = os.path.join(pl.Path.cwd(), \"xt3d\")\n",
    "sim_name = \"sim\"\n",
    "model_name = \"gwf\""
   ]
  },
  {
   "cell_type": "code",
   "execution_count": null,
   "id": "e05f8770",
   "metadata": {
    "scrolled": true
   },
   "outputs": [],
   "source": [
    "\n",
    "sim = flopy.mf6.MFSimulation(sim_name=sim_name, sim_ws=sim_ws, exe_name=path_to_mf6)\n",
    "tdis = flopy.mf6.ModflowTdis(sim, nper=nper, perioddata=tdis_ds, time_units=time_units)\n",
    "ims = flopy.mf6.ModflowIms(\n",
    "    sim,\n",
    "    linear_acceleration=\"bicgstab\",\n",
    "    outer_maximum=nouter,\n",
    "    outer_dvclose=hclose,\n",
    "    inner_maximum=ninner,\n",
    "    inner_dvclose=hclose,\n",
    "    rcloserecord=f\"{rclose} strict\",\n",
    ")\n",
    "gwf = flopy.mf6.ModflowGwf(sim, modelname=model_name, save_flows=True)\n",
    "disv = flopy.mf6.ModflowGwfdisv(\n",
    "    gwf,\n",
    "    length_units=length_units,\n",
    "    nlay=nlay,\n",
    "    top=top,\n",
    "    botm=botm,\n",
    "    **gridprops,\n",
    ")\n",
    "npf = flopy.mf6.ModflowGwfnpf(\n",
    "    gwf,\n",
    "    icelltype=icelltype,\n",
    "    k=k11,\n",
    "    save_specific_discharge=True,\n",
    ")\n",
    "ic = flopy.mf6.ModflowGwfic(gwf, strt=strt)\n",
    "\n",
    "chd_spd = []\n",
    "chd_spd += [[0, i, 1.0] for i in [0, 7, 14, 18, 22, 26, 33]]\n",
    "chd_spd = {0: chd_spd}\n",
    "chd = flopy.mf6.ModflowGwfchd(\n",
    "    gwf,\n",
    "    stress_period_data=chd_spd,\n",
    "    pname=\"CHD-LEFT\",\n",
    "    filename=f\"{model_name}.left.chd\",\n",
    ")\n",
    "\n",
    "chd_spd = []\n",
    "chd_spd += [[0, i, 0.0] for i in [6, 13, 17, 21, 25, 32, 39]]\n",
    "chd_spd = {0: chd_spd}\n",
    "chd = flopy.mf6.ModflowGwfchd(\n",
    "    gwf,\n",
    "    stress_period_data=chd_spd,\n",
    "    pname=\"CHD-RIGHT\",\n",
    "    filename=f\"{model_name}.right.chd\",\n",
    ")\n",
    "\n",
    "head_filerecord = f\"{model_name}.hds\"\n",
    "budget_filerecord = f\"{model_name}.cbc\"\n",
    "oc = flopy.mf6.ModflowGwfoc(\n",
    "    gwf,\n",
    "    head_filerecord=head_filerecord,\n",
    "    budget_filerecord=budget_filerecord,\n",
    "    saverecord=[(\"HEAD\", \"ALL\"), (\"BUDGET\", \"ALL\")],\n",
    ")"
   ]
  },
  {
   "cell_type": "markdown",
   "id": "d25da6cd",
   "metadata": {},
   "source": [
    "### Plot the model grid"
   ]
  },
  {
   "cell_type": "code",
   "execution_count": null,
   "id": "3f2f0818",
   "metadata": {},
   "outputs": [],
   "source": [
    "# Figure properties\n",
    "figure_size = (6, 6)\n",
    "\n",
    "fig = plt.figure(figsize=figure_size)\n",
    "fig.tight_layout()\n",
    "\n",
    "gwf = sim.get_model(model_name)\n",
    "\n",
    "ax = fig.add_subplot(1, 1, 1, aspect=\"equal\")\n",
    "pmv = flopy.plot.PlotMapView(model=gwf, ax=ax, layer=0)\n",
    "\n",
    "# plot the grid\n",
    "pmv.plot_grid()\n",
    "\n",
    "# add the boundary conditions (CHD)\n",
    "pmv.plot_bc(name=\"CHD-LEFT\", alpha=0.75)\n",
    "pmv.plot_bc(name=\"CHD-RIGHT\", alpha=0.75)\n",
    "\n",
    "ax.set_xlabel(\"x position (m)\")\n",
    "ax.set_ylabel(\"y position (m)\")\n",
    "\n",
    "# this plots the cell ids\n",
    "for i, (x, y) in enumerate(\n",
    "    zip(gwf.modelgrid.xcellcenters, gwf.modelgrid.ycellcenters)\n",
    "):\n",
    "    ax.text(\n",
    "        x,\n",
    "        y,\n",
    "        f\"{i + 1}\",\n",
    "        fontsize=6,\n",
    "        horizontalalignment=\"center\",\n",
    "        verticalalignment=\"center\",\n",
    "    )"
   ]
  },
  {
   "cell_type": "markdown",
   "id": "a6da2ee0",
   "metadata": {},
   "source": [
    "### Write the simulation to disk"
   ]
  },
  {
   "cell_type": "code",
   "execution_count": null,
   "id": "602de724",
   "metadata": {},
   "outputs": [],
   "source": [
    "sim.write_simulation()"
   ]
  },
  {
   "cell_type": "markdown",
   "id": "4f3f891a",
   "metadata": {},
   "source": [
    "### Run the simulation"
   ]
  },
  {
   "cell_type": "code",
   "execution_count": null,
   "id": "6575e9a2",
   "metadata": {},
   "outputs": [],
   "source": [
    "sim.run_simulation()"
   ]
  },
  {
   "cell_type": "markdown",
   "id": "b8915752",
   "metadata": {},
   "source": [
    "### Plot the results\n",
    "Get the head data from the model."
   ]
  },
  {
   "cell_type": "code",
   "execution_count": null,
   "id": "a19ba43a",
   "metadata": {},
   "outputs": [],
   "source": [
    "gwf = sim.get_model(model_name)\n",
    "head = gwf.output.head().get_data()[:, 0, :]"
   ]
  },
  {
   "cell_type": "markdown",
   "id": "5e8fcd0b",
   "metadata": {},
   "source": [
    "Get the specific discharge vector from the budget data object."
   ]
  },
  {
   "cell_type": "code",
   "execution_count": null,
   "id": "ae6f682f",
   "metadata": {},
   "outputs": [],
   "source": [
    "qx, qy, qz = flopy.utils.postprocessing.get_specific_discharge(\n",
    "    gwf.output.budget().get_data(text=\"DATA-SPDIS\", totim=1.0)[0],\n",
    "    gwf,\n",
    ")"
   ]
  },
  {
   "cell_type": "markdown",
   "id": "d78543a5",
   "metadata": {},
   "source": [
    "Create the figure."
   ]
  },
  {
   "cell_type": "code",
   "execution_count": null,
   "id": "09c96a91",
   "metadata": {},
   "outputs": [],
   "source": [
    "fig = plt.figure(figsize=(14, 8))\n",
    "fig.tight_layout()\n",
    "\n",
    "ax = fig.add_subplot(1, 2, 1, aspect=\"equal\")\n",
    "pmv = flopy.plot.PlotMapView(model=gwf, ax=ax, layer=0)\n",
    "pmv.plot_grid()\n",
    "cb = pmv.plot_array(head, cmap=\"jet\")\n",
    "pmv.plot_vector(\n",
    "    qx,\n",
    "    qy,\n",
    "    normalize=False,\n",
    "    color=\"0.25\",\n",
    ")\n",
    "cbar = plt.colorbar(cb, shrink=0.6)\n",
    "ax.set_xlabel(\"x position (m)\")\n",
    "ax.set_ylabel(\"y position (m)\")\n",
    "ax.set_title(\"Simulated Head\")\n",
    "\n",
    "ax = fig.add_subplot(1, 2, 2, aspect=\"equal\")\n",
    "pmv = flopy.plot.PlotMapView(model=gwf, ax=ax, layer=0)\n",
    "pmv.plot_grid()\n",
    "x = np.array(gwf.modelgrid.xcellcenters) - 50.0\n",
    "slp = (1.0 - 0.0) / (50.0 - 650.0)\n",
    "heada = slp * x + 1.0\n",
    "cb = pmv.plot_array(head - heada, cmap=\"jet\")\n",
    "cbar = plt.colorbar(cb, shrink=0.6)\n",
    "ax.set_xlabel(\"x position (m)\")\n",
    "ax.set_ylabel(\"y position (m)\")\n",
    "max_error = np.amax(head-heada)\n",
    "ax.set_title(f\"Error (maximum = {max_error:.2g})\")\n",
    "\n"
   ]
  },
  {
   "cell_type": "markdown",
   "id": "7384cb2b",
   "metadata": {},
   "source": [
    "### Interpret Results\n",
    "**The exact solution to this problem is a uniform head gradient and uniform flow in the x direction**. \n",
    "\n",
    "On the left, specific discharge is plotted as arrows on top of the simulated head. \n",
    "\n",
    "The error in the simulated heads relative to the exact solution is plotted on the right. If the flow formulation is accurate, the error should be no greater than solver convergence tolerance `hclose`."
   ]
  }
 ],
 "metadata": {
  "jupytext": {
   "cell_metadata_filter": "-all"
  },
  "kernelspec": {
   "display_name": "Python 3 (ipykernel)",
   "language": "python",
   "name": "python3"
  },
  "language_info": {
   "codemirror_mode": {
    "name": "ipython",
    "version": 3
   },
   "file_extension": ".py",
   "mimetype": "text/x-python",
   "name": "python",
   "nbconvert_exporter": "python",
   "pygments_lexer": "ipython3",
   "version": "3.12.0"
  }
 },
 "nbformat": 4,
 "nbformat_minor": 5
}
