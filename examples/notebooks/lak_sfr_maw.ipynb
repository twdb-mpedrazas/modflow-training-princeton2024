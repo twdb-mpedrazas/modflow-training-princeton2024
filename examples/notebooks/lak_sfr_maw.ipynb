{
 "cells": [
  {
   "cell_type": "markdown",
   "id": "e23d918f",
   "metadata": {},
   "source": [
    "### Create a model with Advanced Packages - Part 1\n",
    "\n",
    "This example problem is based on test 1 from the Lake Package documentation ([Merritt and Konikow, 2000](https://doi.org/10.3133/wri004167)). We are going to add a Streamflow Routing (SFR) feature and a Multi-Aquifer Well (MAW) feature to the model."
   ]
  },
  {
   "cell_type": "markdown",
   "id": "e1946939",
   "metadata": {},
   "source": [
    "#### Initial setup\n",
    "\n",
    "Import dependencies, define the example name and workspace, and read settings from environment variables."
   ]
  },
  {
   "cell_type": "code",
   "execution_count": 1,
   "id": "35a35907",
   "metadata": {},
   "outputs": [],
   "source": [
    "import flopy\n",
    "import matplotlib.pyplot as plt\n",
    "import numpy as np\n",
    "import pathlib as pl"
   ]
  },
  {
   "cell_type": "markdown",
   "id": "716db35d",
   "metadata": {},
   "source": [
    "Define the model name and workspace"
   ]
  },
  {
   "cell_type": "code",
   "execution_count": 2,
   "id": "05f9d21e",
   "metadata": {},
   "outputs": [],
   "source": [
    "name = \"ad-p1\"\n",
    "ws = pl.Path(f\"./temp/{name}\")"
   ]
  },
  {
   "cell_type": "markdown",
   "id": "407eb420",
   "metadata": {},
   "source": [
    "#### Define parameters\n",
    "\n",
    "Define model units, parameters and other settings."
   ]
  },
  {
   "cell_type": "code",
   "execution_count": 3,
   "id": "384de4da",
   "metadata": {},
   "outputs": [],
   "source": [
    "# Model units\n",
    "length_units = \"feet\"\n",
    "time_units = \"days\"\n",
    "\n",
    "# Model parameters\n",
    "nper = 1  # Number of periods\n",
    "nlay = 5  # Number of layers\n",
    "nrow = 17  # Number of rows\n",
    "ncol = 17  # Number of columns\n",
    "top = 500.0  # Top of the model (ft)\n",
    "botm = [107., 97., 87., 77., 67.]  # Bottom elevations (ft)\n",
    "strt = 115.0  # Starting head (ft)\n",
    "k11 = 30.0  # Horizontal hydraulic conductivity (ft/d)\n",
    "k33 = [1179., 30., 30., 30., 30.]  # Vertical hydraulic conductivity (ft/d)\n",
    "ss = 3e-4  # Specific storage (1/d)\n",
    "sy = 0.2  # Specific yield (unitless)\n",
    "H1 = 160.0  # Constant head on left side of model (ft)\n",
    "H2 = 140.0  # Constant head on right side of model (ft)\n",
    "recharge = 0.0116  # Aereal recharge rate (ft/d)\n",
    "etvrate = 0.0141  # Maximum evapotranspiration rate (ft/d)\n",
    "etvdepth = 15.0  # Evapotranspiration extinction depth (ft)\n",
    "lak_strt = 110.0  # Starting lake stage (ft)\n",
    "lak_etrate = 0.0103  # Lake evaporation rate (ft/d)\n",
    "lak_bedleak = 0.1  # Lakebed leakance (1/d)\n",
    "\n",
    "# Static temporal data used by TDIS file\n",
    "tdis_ds = ((5000.0, 100, 1.02),)\n",
    "\n",
    "# define delr and delc\n",
    "# fmt: off\n",
    "delr = np.array(\n",
    "    [\n",
    "        250.0, 1000.0, 1000.0, 1000.0, 1000.0, 1000.0,\n",
    "        500.00, 500.00, 500.00, 500.0, 500.00, 1000.0,\n",
    "        1000.0, 1000.0, 1000.0, 1000.0, 250.0,\n",
    "    ]\n",
    ")\n",
    "# fmt: off\n",
    "delc = np.array(\n",
    "    [\n",
    "        250.0, 1000.0, 1000.0, 1000.0, 1000.0, 1000.0,\n",
    "        500.00, 500.00, 500.00, 500.0, 500.00, 1000.0,\n",
    "        1000.0, 1000.0, 1000.0, 1000.0, 250.0,\n",
    "    ]\n",
    ")\n",
    "\n",
    "# Define dimensions\n",
    "extents = (0.0, delr.sum(), 0.0, delc.sum())\n",
    "shape2d = (nrow, ncol)\n",
    "shape3d = (nlay, nrow, ncol)\n",
    "\n",
    "\n",
    "\n",
    "# create linearly varying evapotranspiration surface\n",
    "xlen = delr.sum() - 0.5 * (delr[0] + delr[-1])\n",
    "x = 0.0\n",
    "s1d = H1 * np.ones(ncol, dtype=float)\n",
    "for idx in range(1, ncol):\n",
    "    x += 0.5 * (delr[idx - 1] + delr[idx])\n",
    "    frac = x / xlen\n",
    "    s1d[idx] = H1 + (H2 - H1) * frac\n",
    "surf = np.tile(s1d, (nrow, 1))\n",
    "\n",
    "# Create the array defining the lake location\n",
    "lake_map = np.ones(shape3d, dtype=np.int32) * -1\n",
    "lake_map[0, 6:11, 6:11] = 0\n",
    "lake_map[1, 7:10, 7:10] = 0\n",
    "lake_map = np.ma.masked_where(lake_map < 0, lake_map)\n",
    "\n",
    "# update the evapotranspiration using the lake map \n",
    "surf[lake_map[0] == 0] = botm[0] - 2\n",
    "surf[lake_map[1] == 0] = botm[1] - 2\n",
    "\n",
    "# Constant head boundary conditions\n",
    "chd_spd = []\n",
    "for k in range(nlay):\n",
    "    chd_spd += [[k, i, 0, H1] for i in range(nrow)]\n",
    "    chd_spd += [[k, i, ncol - 1, H2] for i in range(nrow)]\n",
    "\n",
    "# LAK Package\n",
    "lak_spd = [\n",
    "    [0, \"rainfall\", recharge],\n",
    "    [0, \"evaporation\", lak_etrate],\n",
    "]\n",
    "\n",
    "# Solver parameters\n",
    "nouter = 500\n",
    "ninner = 100\n",
    "hclose = 1e-9\n",
    "rclose = 1e-6"
   ]
  },
  {
   "cell_type": "markdown",
   "id": "87386c60",
   "metadata": {},
   "source": [
    "### Plot the lake locations"
   ]
  },
  {
   "cell_type": "code",
   "execution_count": 4,
   "id": "3b671608",
   "metadata": {},
   "outputs": [
    {
     "name": "stderr",
     "output_type": "stream",
     "text": [
      "C:\\Users\\mpedraza\\AppData\\Local\\miniforge3\\envs\\mfandmore2024\\Lib\\site-packages\\IPython\\core\\pylabtools.py:77: DeprecationWarning: backend2gui is deprecated since IPython 8.24, backends are managed in matplotlib and can be externally registered.\n",
      "  warnings.warn(\n",
      "C:\\Users\\mpedraza\\AppData\\Local\\miniforge3\\envs\\mfandmore2024\\Lib\\site-packages\\IPython\\core\\pylabtools.py:77: DeprecationWarning: backend2gui is deprecated since IPython 8.24, backends are managed in matplotlib and can be externally registered.\n",
      "  warnings.warn(\n",
      "C:\\Users\\mpedraza\\AppData\\Local\\miniforge3\\envs\\mfandmore2024\\Lib\\site-packages\\IPython\\core\\pylabtools.py:77: DeprecationWarning: backend2gui is deprecated since IPython 8.24, backends are managed in matplotlib and can be externally registered.\n",
      "  warnings.warn(\n"
     ]
    },
    {
     "data": {
      "image/png": "[encoded data removed]",
      "text/plain": [
       "<Figure size 640x480 with 1 Axes>"
      ]
     },
     "metadata": {},
     "output_type": "display_data"
    }
   ],
   "source": [
    "plt.imshow(lake_map[0]);"
   ]
  },
  {
   "cell_type": "markdown",
   "id": "c76f4a06",
   "metadata": {
    "lines_to_next_cell": 2
   },
   "source": [
    "### Model setup\n",
    "\n",
    "Create the MODFLOW packages for standard packages."
   ]
  },
  {
   "cell_type": "code",
   "execution_count": 5,
   "id": "81788f84",
   "metadata": {},
   "outputs": [
    {
     "name": "stdout",
     "output_type": "stream",
     "text": [
      "<flopy.mf6.data.mfstructure.MFDataItemStructure object at 0x000001610A12CFB0>\n"
     ]
    }
   ],
   "source": [
    "sim = flopy.mf6.MFSimulation(sim_name=name, sim_ws=ws)\n",
    "flopy.mf6.ModflowTdis(sim, nper=nper, perioddata=tdis_ds, time_units=time_units)\n",
    "flopy.mf6.ModflowIms(\n",
    "    sim,\n",
    "    print_option=\"summary\",\n",
    "    linear_acceleration=\"bicgstab\",\n",
    "    outer_maximum=nouter,\n",
    "    outer_dvclose=hclose,\n",
    "    inner_maximum=ninner,\n",
    "    inner_dvclose=hclose,\n",
    "    rcloserecord=f\"{rclose} strict\",\n",
    ")\n",
    "gwf = flopy.mf6.ModflowGwf(\n",
    "    sim, modelname=name, newtonoptions=\"newton\", save_flows=True\n",
    ")\n",
    "flopy.mf6.ModflowGwfdis(\n",
    "    gwf,\n",
    "    length_units=length_units,\n",
    "    nlay=nlay,\n",
    "    nrow=nrow,\n",
    "    ncol=ncol,\n",
    "    delr=delr,\n",
    "    delc=delc,\n",
    "    idomain=np.ones(shape3d, dtype=int),\n",
    "    top=top,\n",
    "    botm=botm,\n",
    ")\n",
    "\n",
    "# create groundwater head observations\n",
    "obs_file = f\"{name}.gwf.obs\"\n",
    "csv_file = obs_file + \".csv\"\n",
    "obslist = [\n",
    "    [\"A\", \"head\", (0, 3, 3)],\n",
    "    [\"B\", \"head\", (0, 13, 13)],\n",
    "    [\"SFR\", \"head\", (0, 8, 11)],\n",
    "]\n",
    "obsdict = {csv_file: obslist}\n",
    "flopy.mf6.ModflowUtlobs(\n",
    "    gwf, filename=obs_file, print_input=False, continuous=obsdict\n",
    ")\n",
    "\n",
    "flopy.mf6.ModflowGwfnpf(\n",
    "    gwf,\n",
    "    icelltype=1,\n",
    "    k=k11,\n",
    "    k33=k33,\n",
    "    save_specific_discharge=True,\n",
    ")\n",
    "\n",
    "flopy.mf6.ModflowGwfsto(\n",
    "    gwf,\n",
    "    iconvert=1,\n",
    "    sy=sy,\n",
    "    ss=ss,\n",
    ")\n",
    "flopy.mf6.ModflowGwfic(gwf, strt=strt)\n",
    "flopy.mf6.ModflowGwfchd(gwf, stress_period_data=chd_spd)\n",
    "flopy.mf6.ModflowGwfrcha(gwf, recharge=recharge)\n",
    "flopy.mf6.ModflowGwfevta(gwf, surface=surf, rate=etvrate, depth=etvdepth)\n",
    "\n",
    "\n",
    "\n",
    "flopy.mf6.ModflowGwfoc(\n",
    "    gwf,\n",
    "    head_filerecord=f\"{name}.hds\",\n",
    "    budget_filerecord=f\"{name}.cbc\",\n",
    "    saverecord=[(\"HEAD\", \"LAST\"), (\"BUDGET\", \"LAST\")],\n",
    "    printrecord=[(\"BUDGET\", \"ALL\"), (\"HEAD\", \"LAST\")]\n",
    ");\n",
    "\n"
   ]
  },
  {
   "cell_type": "markdown",
   "id": "f8f8e2f3",
   "metadata": {},
   "source": [
    "### Create the Lake Package\n",
    "\n",
    "Create the lake connectivity"
   ]
  },
  {
   "cell_type": "code",
   "execution_count": 6,
   "id": "9e018780",
   "metadata": {},
   "outputs": [],
   "source": [
    "(\n",
    "    idomain_wlakes,\n",
    "    pakdata_dict,\n",
    "    lak_conn,\n",
    ") = flopy.mf6.utils.get_lak_connections(\n",
    "    gwf.modelgrid,\n",
    "    lake_map,\n",
    "    bedleak=lak_bedleak,\n",
    ")"
   ]
  },
  {
   "cell_type": "markdown",
   "id": "bb16bd61",
   "metadata": {},
   "source": [
    "### Create the lake package object\n",
    "\n",
    "Use the lake package data to create the Lake package"
   ]
  },
  {
   "cell_type": "code",
   "execution_count": 7,
   "id": "fbacd880",
   "metadata": {},
   "outputs": [],
   "source": [
    "lak_packagedata = [[0, lak_strt, pakdata_dict[0]]]\n",
    "lak = flopy.mf6.ModflowGwflak(\n",
    "    gwf,\n",
    "    print_stage=True,\n",
    "    nlakes=1,\n",
    "    noutlets=0,\n",
    "    packagedata=lak_packagedata,\n",
    "    connectiondata=lak_conn,\n",
    "    perioddata=lak_spd,\n",
    ")"
   ]
  },
  {
   "cell_type": "markdown",
   "id": "af4734c0",
   "metadata": {},
   "source": [
    "### Create Lake observations"
   ]
  },
  {
   "cell_type": "code",
   "execution_count": 8,
   "id": "2f6e9100",
   "metadata": {},
   "outputs": [],
   "source": [
    "obs_file = f\"{name}.lak.obs\"\n",
    "csv_file = obs_file + \".csv\"\n",
    "obs_dict = {\n",
    "    csv_file: [\n",
    "        (\"stage\", \"stage\", (0,)),\n",
    "    ]\n",
    "}\n",
    "lak.obs.initialize(\n",
    "    filename=obs_file, digits=10, print_input=True, continuous=obs_dict\n",
    ")"
   ]
  },
  {
   "cell_type": "markdown",
   "id": "c789f339",
   "metadata": {},
   "source": [
    "Update the idomain to inactivate the lake area"
   ]
  },
  {
   "cell_type": "code",
   "execution_count": 9,
   "id": "ec4338bb",
   "metadata": {},
   "outputs": [],
   "source": [
    "gwf.dis.idomain = idomain_wlakes"
   ]
  },
  {
   "cell_type": "markdown",
   "id": "a4633570",
   "metadata": {},
   "source": [
    "### Add the SFR feature\n",
    "\n",
    "The SFR reaches will be in row 8 starting in columns 11 to 15 (zero-based)."
   ]
  },
  {
   "cell_type": "code",
   "execution_count": 10,
   "id": "45d7dc1a",
   "metadata": {},
   "outputs": [],
   "source": [
    "nreaches = 5\n",
    "bed_elev = [142., 141.5, 141., 141.5, 141.]\n",
    "upstfr = [0., 1., 1., 1., 1.]\n",
    "nconn = [1, 2, 2, 2, 1]"
   ]
  },
  {
   "cell_type": "code",
   "execution_count": 11,
   "id": "7ac32963",
   "metadata": {},
   "outputs": [
    {
     "data": {
      "text/plain": [
       "[(0,\n",
       "  (0, 8, 11),\n",
       "  1000.0,\n",
       "  25.0,\n",
       "  0.001,\n",
       "  142.0,\n",
       "  1.0,\n",
       "  0.1,\n",
       "  0.035,\n",
       "  1,\n",
       "  0.0,\n",
       "  0,\n",
       "  'sfr'),\n",
       " (1,\n",
       "  (0, 8, 12),\n",
       "  1000.0,\n",
       "  25.0,\n",
       "  0.001,\n",
       "  141.5,\n",
       "  1.0,\n",
       "  0.1,\n",
       "  0.035,\n",
       "  2,\n",
       "  1.0,\n",
       "  0,\n",
       "  'sfr'),\n",
       " (2,\n",
       "  (0, 8, 13),\n",
       "  1000.0,\n",
       "  25.0,\n",
       "  0.001,\n",
       "  141.0,\n",
       "  1.0,\n",
       "  0.1,\n",
       "  0.035,\n",
       "  2,\n",
       "  1.0,\n",
       "  0,\n",
       "  'sfr'),\n",
       " (3,\n",
       "  (0, 8, 14),\n",
       "  1000.0,\n",
       "  25.0,\n",
       "  0.001,\n",
       "  141.5,\n",
       "  1.0,\n",
       "  0.1,\n",
       "  0.035,\n",
       "  2,\n",
       "  1.0,\n",
       "  0,\n",
       "  'sfr'),\n",
       " (4,\n",
       "  (0, 8, 15),\n",
       "  1000.0,\n",
       "  25.0,\n",
       "  0.001,\n",
       "  141.0,\n",
       "  1.0,\n",
       "  0.1,\n",
       "  0.035,\n",
       "  1,\n",
       "  1.0,\n",
       "  0,\n",
       "  'sfr')]"
      ]
     },
     "execution_count": 11,
     "metadata": {},
     "output_type": "execute_result"
    }
   ],
   "source": [
    "#<ifno> <cellid(ncelldim)> <rlen> <rwid> <rgrd> <rtp> <rbth> <rhk> <man> <ncon> <ustrf> <ndv>\n",
    "sfr_pakdata = [(idx, (0, 8, 11 + idx), 1000., 25., 1e-3, bed_elev[idx], 1.0, 0.1, 0.035, nconn[idx], upstfr[idx], 0, \"sfr\") for idx in range(nreaches)]\n",
    "sfr_pakdata"
   ]
  },
  {
   "cell_type": "markdown",
   "id": "9c769ce4",
   "metadata": {},
   "source": [
    "Create the connectivity data for the SFR reaches"
   ]
  },
  {
   "cell_type": "code",
   "execution_count": 12,
   "id": "9d0c8393",
   "metadata": {},
   "outputs": [
    {
     "data": {
      "text/plain": [
       "[[0, -1], [1, 0, -2], [2, 1, -3], [3, 2, -4], [4, 3, -5]]"
      ]
     },
     "execution_count": 12,
     "metadata": {},
     "output_type": "execute_result"
    }
   ],
   "source": [
    "sfr_conn = []\n",
    "for idx in range(nreaches):\n",
    "    c = [idx]\n",
    "    if idx > 0:\n",
    "        c.append(idx - 1)\n",
    "    if idx - 1 < nreaches:\n",
    "        c.append(-(idx + 1))\n",
    "    sfr_conn.append(c)\n",
    "sfr_conn\n",
    "    "
   ]
  },
  {
   "cell_type": "markdown",
   "id": "e9f58037",
   "metadata": {},
   "source": [
    "### Create SFR observations"
   ]
  },
  {
   "cell_type": "code",
   "execution_count": 13,
   "id": "45cf87dc",
   "metadata": {},
   "outputs": [],
   "source": [
    "    obs_file = f\"{name}.sfr.obs\"\n",
    "    csv_file = obs_file + \".csv\"\n",
    "    obs_dict = {\n",
    "        obs_file + \".csv\": [\n",
    "            (\"baseflow\", \"SFR\", \"SFR\"),\n",
    "            (\"outflow\", \"ext-outflow\", (4,)),\n",
    "            (\"stage\", \"stage\", (0,)),\n",
    "        ]\n",
    "    }"
   ]
  },
  {
   "cell_type": "markdown",
   "id": "2d7547d8",
   "metadata": {},
   "source": [
    "Use the SFR package data to create the package"
   ]
  },
  {
   "cell_type": "code",
   "execution_count": 14,
   "id": "a7cf5c34",
   "metadata": {},
   "outputs": [],
   "source": [
    "sfr = flopy.mf6.ModflowGwfsfr(\n",
    "    gwf,\n",
    "    boundnames=True,\n",
    "    print_input=True,\n",
    "    print_flows=True,\n",
    "    print_stage=True,\n",
    "    length_conversion=3.28081,\n",
    "    time_conversion=86400.,\n",
    "    nreaches=nreaches,\n",
    "    packagedata=sfr_pakdata,\n",
    "    connectiondata=sfr_conn,\n",
    "    observations=obs_dict,\n",
    ")"
   ]
  },
  {
   "cell_type": "markdown",
   "id": "63882de9",
   "metadata": {},
   "source": [
    "### Create the Multi-Aquifer Well Package"
   ]
  },
  {
   "cell_type": "code",
   "execution_count": 15,
   "id": "abfece54",
   "metadata": {},
   "outputs": [],
   "source": [
    "maw_row, maw_col = 3, 13\n",
    "maw_radius = 0.5 \n",
    "maw_rate = -10000."
   ]
  },
  {
   "cell_type": "code",
   "execution_count": 16,
   "id": "a26f8e87",
   "metadata": {},
   "outputs": [],
   "source": [
    "maw_packagedata = [[0, maw_radius, botm[-1], strt, \"THIEM\", 5]]\n",
    "maw_conn = [(0, idx, (idx, maw_row, maw_col), top, botm[-1], -999.0, -999.0) for idx in range(nlay)]\n",
    "maw_spd = [[0, \"rate\", maw_rate]]"
   ]
  },
  {
   "cell_type": "markdown",
   "id": "acdfd1ab",
   "metadata": {},
   "source": [
    "### Create the MAW package from the MAW data"
   ]
  },
  {
   "cell_type": "code",
   "execution_count": 17,
   "id": "e02c761b",
   "metadata": {},
   "outputs": [],
   "source": [
    "maw = flopy.mf6.ModflowGwfmaw(\n",
    "        gwf,\n",
    "        nmawwells=1,\n",
    "        packagedata=maw_packagedata,\n",
    "        connectiondata=maw_conn,\n",
    "        perioddata=maw_spd,\n",
    "    )"
   ]
  },
  {
   "cell_type": "markdown",
   "id": "5eb113f0",
   "metadata": {},
   "source": [
    "### Write the model files"
   ]
  },
  {
   "cell_type": "code",
   "execution_count": 18,
   "id": "e1d5a5ac",
   "metadata": {},
   "outputs": [
    {
     "name": "stdout",
     "output_type": "stream",
     "text": [
      "writing simulation...\n",
      "  writing simulation name file...\n",
      "  writing simulation tdis package...\n",
      "  writing solution package ims_-1...\n",
      "  writing model ad-p1...\n",
      "    writing model name file...\n",
      "    writing package dis...\n",
      "    writing package obs_0...\n",
      "    writing package npf...\n",
      "    writing package sto...\n",
      "    writing package ic...\n",
      "    writing package chd_0...\n",
      "INFORMATION: maxbound in ('gwf6', 'chd', 'dimensions') changed to 170 based on size of stress_period_data\n",
      "    writing package rcha_0...\n",
      "    writing package evta_0...\n",
      "    writing package oc...\n",
      "    writing package lak_0...\n",
      "    writing package obs_1...\n",
      "    writing package sfr_0...\n",
      "    writing package obs_2...\n",
      "    writing package maw_0...\n"
     ]
    }
   ],
   "source": [
    "sim.write_simulation()"
   ]
  },
  {
   "cell_type": "markdown",
   "id": "fd62f81c",
   "metadata": {},
   "source": [
    "### Run the model"
   ]
  },
  {
   "cell_type": "code",
   "execution_count": 19,
   "id": "1e82ac83",
   "metadata": {},
   "outputs": [
    {
     "name": "stdout",
     "output_type": "stream",
     "text": [
      "FloPy is using the following executable to run the model: ..\\..\\..\\..\\..\\..\\..\\AppData\\Local\\miniforge3\\envs\\mfandmore2024\\Scripts\\mf6.exe\n"
     ]
    },
    {
     "ename": "PermissionError",
     "evalue": "[WinError 5] Access is denied",
     "output_type": "error",
     "traceback": [
      "\u001b[1;31m---------------------------------------------------------------------------\u001b[0m",
      "\u001b[1;31mPermissionError\u001b[0m                           Traceback (most recent call last)",
      "Cell \u001b[1;32mIn[19], line 1\u001b[0m\n\u001b[1;32m----> 1\u001b[0m \u001b[43msim\u001b[49m\u001b[38;5;241;43m.\u001b[39;49m\u001b[43mrun_simulation\u001b[49m\u001b[43m(\u001b[49m\u001b[43m)\u001b[49m\n",
      "File \u001b[1;32m~\\AppData\\Local\\miniforge3\\envs\\mfandmore2024\\Lib\\site-packages\\flopy\\mf6\\mfsimbase.py:1715\u001b[0m, in \u001b[0;36mMFSimulationBase.run_simulation\u001b[1;34m(self, silent, pause, report, processors, normal_msg, use_async, cargs, custom_print)\u001b[0m\n\u001b[0;32m   1713\u001b[0m     \u001b[38;5;28;01melse\u001b[39;00m:\n\u001b[0;32m   1714\u001b[0m         silent \u001b[38;5;241m=\u001b[39m \u001b[38;5;28;01mTrue\u001b[39;00m\n\u001b[1;32m-> 1715\u001b[0m \u001b[38;5;28;01mreturn\u001b[39;00m \u001b[43mrun_model\u001b[49m\u001b[43m(\u001b[49m\n\u001b[0;32m   1716\u001b[0m \u001b[43m    \u001b[49m\u001b[38;5;28;43mself\u001b[39;49m\u001b[38;5;241;43m.\u001b[39;49m\u001b[43mexe_name\u001b[49m\u001b[43m,\u001b[49m\n\u001b[0;32m   1717\u001b[0m \u001b[43m    \u001b[49m\u001b[38;5;28;43;01mNone\u001b[39;49;00m\u001b[43m,\u001b[49m\n\u001b[0;32m   1718\u001b[0m \u001b[43m    \u001b[49m\u001b[38;5;28;43mself\u001b[39;49m\u001b[38;5;241;43m.\u001b[39;49m\u001b[43msimulation_data\u001b[49m\u001b[38;5;241;43m.\u001b[39;49m\u001b[43mmfpath\u001b[49m\u001b[38;5;241;43m.\u001b[39;49m\u001b[43mget_sim_path\u001b[49m\u001b[43m(\u001b[49m\u001b[43m)\u001b[49m\u001b[43m,\u001b[49m\n\u001b[0;32m   1719\u001b[0m \u001b[43m    \u001b[49m\u001b[43msilent\u001b[49m\u001b[38;5;241;43m=\u001b[39;49m\u001b[43msilent\u001b[49m\u001b[43m,\u001b[49m\n\u001b[0;32m   1720\u001b[0m \u001b[43m    \u001b[49m\u001b[43mpause\u001b[49m\u001b[38;5;241;43m=\u001b[39;49m\u001b[43mpause\u001b[49m\u001b[43m,\u001b[49m\n\u001b[0;32m   1721\u001b[0m \u001b[43m    \u001b[49m\u001b[43mreport\u001b[49m\u001b[38;5;241;43m=\u001b[39;49m\u001b[43mreport\u001b[49m\u001b[43m,\u001b[49m\n\u001b[0;32m   1722\u001b[0m \u001b[43m    \u001b[49m\u001b[43mprocessors\u001b[49m\u001b[38;5;241;43m=\u001b[39;49m\u001b[43mprocessors\u001b[49m\u001b[43m,\u001b[49m\n\u001b[0;32m   1723\u001b[0m \u001b[43m    \u001b[49m\u001b[43mnormal_msg\u001b[49m\u001b[38;5;241;43m=\u001b[39;49m\u001b[43mnormal_msg\u001b[49m\u001b[43m,\u001b[49m\n\u001b[0;32m   1724\u001b[0m \u001b[43m    \u001b[49m\u001b[43muse_async\u001b[49m\u001b[38;5;241;43m=\u001b[39;49m\u001b[43muse_async\u001b[49m\u001b[43m,\u001b[49m\n\u001b[0;32m   1725\u001b[0m \u001b[43m    \u001b[49m\u001b[43mcargs\u001b[49m\u001b[38;5;241;43m=\u001b[39;49m\u001b[43mcargs\u001b[49m\u001b[43m,\u001b[49m\n\u001b[0;32m   1726\u001b[0m \u001b[43m    \u001b[49m\u001b[43mcustom_print\u001b[49m\u001b[38;5;241;43m=\u001b[39;49m\u001b[43mcustom_print\u001b[49m\u001b[43m,\u001b[49m\n\u001b[0;32m   1727\u001b[0m \u001b[43m\u001b[49m\u001b[43m)\u001b[49m\n",
      "File \u001b[1;32m~\\AppData\\Local\\miniforge3\\envs\\mfandmore2024\\Lib\\site-packages\\flopy\\mbase.py:1861\u001b[0m, in \u001b[0;36mrun_model\u001b[1;34m(exe_name, namefile, model_ws, silent, pause, report, processors, normal_msg, use_async, cargs, custom_print)\u001b[0m\n\u001b[0;32m   1858\u001b[0m         argv\u001b[38;5;241m.\u001b[39mappend(t)\n\u001b[0;32m   1860\u001b[0m \u001b[38;5;66;03m# run the model with Popen\u001b[39;00m\n\u001b[1;32m-> 1861\u001b[0m proc \u001b[38;5;241m=\u001b[39m \u001b[43mPopen\u001b[49m\u001b[43m(\u001b[49m\u001b[43margv\u001b[49m\u001b[43m,\u001b[49m\u001b[43m \u001b[49m\u001b[43mstdout\u001b[49m\u001b[38;5;241;43m=\u001b[39;49m\u001b[43mPIPE\u001b[49m\u001b[43m,\u001b[49m\u001b[43m \u001b[49m\u001b[43mstderr\u001b[49m\u001b[38;5;241;43m=\u001b[39;49m\u001b[43mSTDOUT\u001b[49m\u001b[43m,\u001b[49m\u001b[43m \u001b[49m\u001b[43mcwd\u001b[49m\u001b[38;5;241;43m=\u001b[39;49m\u001b[43mmodel_ws\u001b[49m\u001b[43m)\u001b[49m\n\u001b[0;32m   1863\u001b[0m \u001b[38;5;28;01mif\u001b[39;00m \u001b[38;5;129;01mnot\u001b[39;00m use_async:\n\u001b[0;32m   1864\u001b[0m     \u001b[38;5;28;01mwhile\u001b[39;00m \u001b[38;5;28;01mTrue\u001b[39;00m:\n",
      "File \u001b[1;32m~\\AppData\\Local\\miniforge3\\envs\\mfandmore2024\\Lib\\subprocess.py:1026\u001b[0m, in \u001b[0;36mPopen.__init__\u001b[1;34m(self, args, bufsize, executable, stdin, stdout, stderr, preexec_fn, close_fds, shell, cwd, env, universal_newlines, startupinfo, creationflags, restore_signals, start_new_session, pass_fds, user, group, extra_groups, encoding, errors, text, umask, pipesize, process_group)\u001b[0m\n\u001b[0;32m   1022\u001b[0m         \u001b[38;5;28;01mif\u001b[39;00m \u001b[38;5;28mself\u001b[39m\u001b[38;5;241m.\u001b[39mtext_mode:\n\u001b[0;32m   1023\u001b[0m             \u001b[38;5;28mself\u001b[39m\u001b[38;5;241m.\u001b[39mstderr \u001b[38;5;241m=\u001b[39m io\u001b[38;5;241m.\u001b[39mTextIOWrapper(\u001b[38;5;28mself\u001b[39m\u001b[38;5;241m.\u001b[39mstderr,\n\u001b[0;32m   1024\u001b[0m                     encoding\u001b[38;5;241m=\u001b[39mencoding, errors\u001b[38;5;241m=\u001b[39merrors)\n\u001b[1;32m-> 1026\u001b[0m     \u001b[38;5;28;43mself\u001b[39;49m\u001b[38;5;241;43m.\u001b[39;49m\u001b[43m_execute_child\u001b[49m\u001b[43m(\u001b[49m\u001b[43margs\u001b[49m\u001b[43m,\u001b[49m\u001b[43m \u001b[49m\u001b[43mexecutable\u001b[49m\u001b[43m,\u001b[49m\u001b[43m \u001b[49m\u001b[43mpreexec_fn\u001b[49m\u001b[43m,\u001b[49m\u001b[43m \u001b[49m\u001b[43mclose_fds\u001b[49m\u001b[43m,\u001b[49m\n\u001b[0;32m   1027\u001b[0m \u001b[43m                        \u001b[49m\u001b[43mpass_fds\u001b[49m\u001b[43m,\u001b[49m\u001b[43m \u001b[49m\u001b[43mcwd\u001b[49m\u001b[43m,\u001b[49m\u001b[43m \u001b[49m\u001b[43menv\u001b[49m\u001b[43m,\u001b[49m\n\u001b[0;32m   1028\u001b[0m \u001b[43m                        \u001b[49m\u001b[43mstartupinfo\u001b[49m\u001b[43m,\u001b[49m\u001b[43m \u001b[49m\u001b[43mcreationflags\u001b[49m\u001b[43m,\u001b[49m\u001b[43m \u001b[49m\u001b[43mshell\u001b[49m\u001b[43m,\u001b[49m\n\u001b[0;32m   1029\u001b[0m \u001b[43m                        \u001b[49m\u001b[43mp2cread\u001b[49m\u001b[43m,\u001b[49m\u001b[43m \u001b[49m\u001b[43mp2cwrite\u001b[49m\u001b[43m,\u001b[49m\n\u001b[0;32m   1030\u001b[0m \u001b[43m                        \u001b[49m\u001b[43mc2pread\u001b[49m\u001b[43m,\u001b[49m\u001b[43m \u001b[49m\u001b[43mc2pwrite\u001b[49m\u001b[43m,\u001b[49m\n\u001b[0;32m   1031\u001b[0m \u001b[43m                        \u001b[49m\u001b[43merrread\u001b[49m\u001b[43m,\u001b[49m\u001b[43m \u001b[49m\u001b[43merrwrite\u001b[49m\u001b[43m,\u001b[49m\n\u001b[0;32m   1032\u001b[0m \u001b[43m                        \u001b[49m\u001b[43mrestore_signals\u001b[49m\u001b[43m,\u001b[49m\n\u001b[0;32m   1033\u001b[0m \u001b[43m                        \u001b[49m\u001b[43mgid\u001b[49m\u001b[43m,\u001b[49m\u001b[43m \u001b[49m\u001b[43mgids\u001b[49m\u001b[43m,\u001b[49m\u001b[43m \u001b[49m\u001b[43muid\u001b[49m\u001b[43m,\u001b[49m\u001b[43m \u001b[49m\u001b[43mumask\u001b[49m\u001b[43m,\u001b[49m\n\u001b[0;32m   1034\u001b[0m \u001b[43m                        \u001b[49m\u001b[43mstart_new_session\u001b[49m\u001b[43m,\u001b[49m\u001b[43m \u001b[49m\u001b[43mprocess_group\u001b[49m\u001b[43m)\u001b[49m\n\u001b[0;32m   1035\u001b[0m \u001b[38;5;28;01mexcept\u001b[39;00m:\n\u001b[0;32m   1036\u001b[0m     \u001b[38;5;66;03m# Cleanup if the child failed starting.\u001b[39;00m\n\u001b[0;32m   1037\u001b[0m     \u001b[38;5;28;01mfor\u001b[39;00m f \u001b[38;5;129;01min\u001b[39;00m \u001b[38;5;28mfilter\u001b[39m(\u001b[38;5;28;01mNone\u001b[39;00m, (\u001b[38;5;28mself\u001b[39m\u001b[38;5;241m.\u001b[39mstdin, \u001b[38;5;28mself\u001b[39m\u001b[38;5;241m.\u001b[39mstdout, \u001b[38;5;28mself\u001b[39m\u001b[38;5;241m.\u001b[39mstderr)):\n",
      "File \u001b[1;32m~\\AppData\\Local\\miniforge3\\envs\\mfandmore2024\\Lib\\subprocess.py:1538\u001b[0m, in \u001b[0;36mPopen._execute_child\u001b[1;34m(self, args, executable, preexec_fn, close_fds, pass_fds, cwd, env, startupinfo, creationflags, shell, p2cread, p2cwrite, c2pread, c2pwrite, errread, errwrite, unused_restore_signals, unused_gid, unused_gids, unused_uid, unused_umask, unused_start_new_session, unused_process_group)\u001b[0m\n\u001b[0;32m   1536\u001b[0m \u001b[38;5;66;03m# Start the process\u001b[39;00m\n\u001b[0;32m   1537\u001b[0m \u001b[38;5;28;01mtry\u001b[39;00m:\n\u001b[1;32m-> 1538\u001b[0m     hp, ht, pid, tid \u001b[38;5;241m=\u001b[39m \u001b[43m_winapi\u001b[49m\u001b[38;5;241;43m.\u001b[39;49m\u001b[43mCreateProcess\u001b[49m\u001b[43m(\u001b[49m\u001b[43mexecutable\u001b[49m\u001b[43m,\u001b[49m\u001b[43m \u001b[49m\u001b[43margs\u001b[49m\u001b[43m,\u001b[49m\n\u001b[0;32m   1539\u001b[0m \u001b[43m                             \u001b[49m\u001b[38;5;66;43;03m# no special security\u001b[39;49;00m\n\u001b[0;32m   1540\u001b[0m \u001b[43m                             \u001b[49m\u001b[38;5;28;43;01mNone\u001b[39;49;00m\u001b[43m,\u001b[49m\u001b[43m \u001b[49m\u001b[38;5;28;43;01mNone\u001b[39;49;00m\u001b[43m,\u001b[49m\n\u001b[0;32m   1541\u001b[0m \u001b[43m                             \u001b[49m\u001b[38;5;28;43mint\u001b[39;49m\u001b[43m(\u001b[49m\u001b[38;5;129;43;01mnot\u001b[39;49;00m\u001b[43m \u001b[49m\u001b[43mclose_fds\u001b[49m\u001b[43m)\u001b[49m\u001b[43m,\u001b[49m\n\u001b[0;32m   1542\u001b[0m \u001b[43m                             \u001b[49m\u001b[43mcreationflags\u001b[49m\u001b[43m,\u001b[49m\n\u001b[0;32m   1543\u001b[0m \u001b[43m                             \u001b[49m\u001b[43menv\u001b[49m\u001b[43m,\u001b[49m\n\u001b[0;32m   1544\u001b[0m \u001b[43m                             \u001b[49m\u001b[43mcwd\u001b[49m\u001b[43m,\u001b[49m\n\u001b[0;32m   1545\u001b[0m \u001b[43m                             \u001b[49m\u001b[43mstartupinfo\u001b[49m\u001b[43m)\u001b[49m\n\u001b[0;32m   1546\u001b[0m \u001b[38;5;28;01mfinally\u001b[39;00m:\n\u001b[0;32m   1547\u001b[0m     \u001b[38;5;66;03m# Child is launched. Close the parent's copy of those pipe\u001b[39;00m\n\u001b[0;32m   1548\u001b[0m     \u001b[38;5;66;03m# handles that only the child should have open.  You need\u001b[39;00m\n\u001b[1;32m   (...)\u001b[0m\n\u001b[0;32m   1551\u001b[0m     \u001b[38;5;66;03m# pipe will not close when the child process exits and the\u001b[39;00m\n\u001b[0;32m   1552\u001b[0m     \u001b[38;5;66;03m# ReadFile will hang.\u001b[39;00m\n\u001b[0;32m   1553\u001b[0m     \u001b[38;5;28mself\u001b[39m\u001b[38;5;241m.\u001b[39m_close_pipe_fds(p2cread, p2cwrite,\n\u001b[0;32m   1554\u001b[0m                          c2pread, c2pwrite,\n\u001b[0;32m   1555\u001b[0m                          errread, errwrite)\n",
      "\u001b[1;31mPermissionError\u001b[0m: [WinError 5] Access is denied"
     ]
    }
   ],
   "source": [
    "sim.run_simulation()"
   ]
  },
  {
   "cell_type": "markdown",
   "id": "c7a41cf6",
   "metadata": {},
   "source": [
    "### Plot Results\n"
   ]
  },
  {
   "cell_type": "code",
   "execution_count": null,
   "id": "cee5c5d3",
   "metadata": {
    "lines_to_end_of_cell_marker": 2
   },
   "outputs": [],
   "source": [
    "# Figure properties\n",
    "figure_size = (6.3, 5.6)\n",
    "masked_values = (0, 1e30, -1e30)"
   ]
  },
  {
   "cell_type": "code",
   "execution_count": null,
   "id": "c83120d1",
   "metadata": {},
   "outputs": [],
   "source": [
    "# load the observations\n",
    "lak_results = gwf.lak.output.obs().data\n",
    "sfr_results = gwf.sfr.output.obs().data\n",
    "gwf_results = gwf.obs[0].output.obs().data"
   ]
  },
  {
   "cell_type": "code",
   "execution_count": null,
   "id": "9dbb4419",
   "metadata": {},
   "outputs": [],
   "source": [
    "# create MODFLOW 6 head object\n",
    "hobj = gwf.output.head()\n",
    "\n",
    "# create MODFLOW 6 cell-by-cell budget object\n",
    "cobj = gwf.output.budget()\n",
    "\n",
    "kstpkper = hobj.get_kstpkper()\n",
    "\n",
    "head = hobj.get_data(kstpkper=kstpkper[0])\n",
    "qx, qy, qz = flopy.utils.postprocessing.get_specific_discharge(\n",
    "cobj.get_data(text=\"DATA-SPDIS\", kstpkper=kstpkper[0])[0],\n",
    "gwf,\n",
    ")\n",
    "\n",
    "# add lake stage to heads\n",
    "head[head == 1e30] = lak_results[\"STAGE\"][-1]\n",
    "\n",
    "# observation locations\n",
    "xcenters, ycenters = gwf.modelgrid.xycenters[0], gwf.modelgrid.xycenters[1]\n",
    "p1 = (xcenters[3], ycenters[3])\n",
    "p2 = (xcenters[13], ycenters[13])\n"
   ]
  },
  {
   "cell_type": "markdown",
   "id": "d3bccd3e",
   "metadata": {},
   "source": [
    "#### Plot the heads"
   ]
  },
  {
   "cell_type": "code",
   "execution_count": null,
   "id": "0223891a",
   "metadata": {},
   "outputs": [],
   "source": [
    "fig, axd = plt.subplot_mosaic(\n",
    "    [\n",
    "        [\"a\"],\n",
    "        [\"a\"],\n",
    "        [\"b\"],\n",
    "    ],\n",
    "    layout=\"constrained\", \n",
    "    figsize=(4, 6.9),\n",
    "    )\n",
    "\n",
    "ax = axd[\"a\"]\n",
    "mm = flopy.plot.PlotMapView(gwf, ax=ax, extent=extents)\n",
    "mm.plot_bc(\"CHD\", color=\"cyan\")\n",
    "mm.plot_inactive(color_noflow=\"#5DBB63\")\n",
    "mm.plot_grid(lw=0.5, color=\"black\")\n",
    "cv = mm.contour_array(\n",
    "    head,\n",
    "    levels=np.arange(140, 160, 2),\n",
    "    linewidths=0.75,\n",
    "    linestyles=\"-\",\n",
    "    colors=\"blue\",\n",
    ")\n",
    "plt.clabel(cv, fmt=\"%1.0f\")\n",
    "mm.plot_vector(qx, qy, normalize=True, color=\"0.75\")\n",
    "ax.plot(p1[0], p1[1], marker=\"o\", mfc=\"red\", mec=\"black\", ms=4)\n",
    "ax.plot(p2[0], p2[1], marker=\"o\", mfc=\"red\", mec=\"black\", ms=4)\n",
    "ax.set_xlabel(\"x-coordinate, in feet\")\n",
    "ax.set_ylabel(\"y-coordinate, in feet\")\n",
    "\n",
    "ax = axd[\"b\"]\n",
    "xs = flopy.plot.PlotCrossSection(gwf, ax=ax, line={\"row\": 8})\n",
    "xs.plot_array(np.ones(shape3d), head=head, cmap=\"jet\")\n",
    "xs.plot_bc(\"CHD\", color=\"cyan\", head=head)\n",
    "xs.plot_ibound(color_noflow=\"#5DBB63\", head=head)\n",
    "xs.plot_grid(lw=0.5, color=\"black\")\n",
    "ax.set_xlabel(\"x-coordinate, in feet\")\n",
    "ax.set_ylim(67, 160)\n",
    "ax.set_ylabel(\"Elevation, in feet\")\n",
    "\n",
    "\n",
    "plt.show()\n",
    "\n",
    "\n"
   ]
  },
  {
   "cell_type": "markdown",
   "id": "5bbb577d",
   "metadata": {},
   "source": [
    "#### Plot the stage results"
   ]
  },
  {
   "cell_type": "code",
   "execution_count": 20,
   "id": "831e081a",
   "metadata": {},
   "outputs": [
    {
     "ename": "NameError",
     "evalue": "name 'lak_results' is not defined",
     "output_type": "error",
     "traceback": [
      "\u001b[1;31m---------------------------------------------------------------------------\u001b[0m",
      "\u001b[1;31mNameError\u001b[0m                                 Traceback (most recent call last)",
      "Cell \u001b[1;32mIn[20], line 9\u001b[0m\n\u001b[0;32m      1\u001b[0m dtype \u001b[38;5;241m=\u001b[39m [\n\u001b[0;32m      2\u001b[0m     (\u001b[38;5;124m\"\u001b[39m\u001b[38;5;124mtime\u001b[39m\u001b[38;5;124m\"\u001b[39m, \u001b[38;5;28mfloat\u001b[39m),\n\u001b[0;32m      3\u001b[0m     (\u001b[38;5;124m\"\u001b[39m\u001b[38;5;124mSTAGE\u001b[39m\u001b[38;5;124m\"\u001b[39m, \u001b[38;5;28mfloat\u001b[39m),\n\u001b[1;32m   (...)\u001b[0m\n\u001b[0;32m      6\u001b[0m     (\u001b[38;5;124m\"\u001b[39m\u001b[38;5;124mSFR STAGE\u001b[39m\u001b[38;5;124m\"\u001b[39m, \u001b[38;5;28mfloat\u001b[39m),\n\u001b[0;32m      7\u001b[0m ]\n\u001b[1;32m----> 9\u001b[0m results \u001b[38;5;241m=\u001b[39m np\u001b[38;5;241m.\u001b[39mzeros((\u001b[43mlak_results\u001b[49m\u001b[38;5;241m.\u001b[39mshape[\u001b[38;5;241m0\u001b[39m] \u001b[38;5;241m+\u001b[39m \u001b[38;5;241m1\u001b[39m), dtype\u001b[38;5;241m=\u001b[39mdtype)\n\u001b[0;32m     10\u001b[0m results[\u001b[38;5;124m\"\u001b[39m\u001b[38;5;124mtime\u001b[39m\u001b[38;5;124m\"\u001b[39m][\u001b[38;5;241m1\u001b[39m:] \u001b[38;5;241m=\u001b[39m lak_results[\u001b[38;5;124m\"\u001b[39m\u001b[38;5;124mtotim\u001b[39m\u001b[38;5;124m\"\u001b[39m]\n\u001b[0;32m     11\u001b[0m results[\u001b[38;5;124m\"\u001b[39m\u001b[38;5;124mSTAGE\u001b[39m\u001b[38;5;124m\"\u001b[39m][\u001b[38;5;241m0\u001b[39m] \u001b[38;5;241m=\u001b[39m \u001b[38;5;241m110.0\u001b[39m\n",
      "\u001b[1;31mNameError\u001b[0m: name 'lak_results' is not defined"
     ]
    }
   ],
   "source": [
    "dtype = [\n",
    "    (\"time\", float),\n",
    "    (\"STAGE\", float),\n",
    "    (\"A\", float),\n",
    "    (\"B\", float),\n",
    "    (\"SFR STAGE\", float),\n",
    "]\n",
    "\n",
    "results = np.zeros((lak_results.shape[0] + 1), dtype=dtype)\n",
    "results[\"time\"][1:] = lak_results[\"totim\"]\n",
    "results[\"STAGE\"][0] = 110.0\n",
    "results[\"STAGE\"][1:] = lak_results[\"STAGE\"]\n",
    "results[\"A\"][0] = 115.0\n",
    "results[\"A\"][1:] = gwf_results[\"A\"]\n",
    "results[\"B\"][0] = 115.0\n",
    "results[\"B\"][1:] = gwf_results[\"B\"]\n",
    "results[\"SFR STAGE\"][1:] = sfr_results[\"STAGE\"]\n",
    "\n",
    "# create the figure\n",
    "fig, ax = plt.subplots(\n",
    "    ncols=1,\n",
    "    nrows=1,\n",
    "    sharex=True,\n",
    "    figsize=(6.3, 3.15),\n",
    "    constrained_layout=True,\n",
    ")\n",
    "\n",
    "ax.set_xlim(0, 3000)\n",
    "ax.set_ylim(110, 160)\n",
    "ax.plot(\n",
    "    results[\"time\"],\n",
    "    results[\"STAGE\"],\n",
    "    lw=0.75,\n",
    "    ls=\"--\",\n",
    "    color=\"black\",\n",
    "    label=\"Lake stage\",\n",
    ")\n",
    "ax.plot(\n",
    "    results[\"time\"],\n",
    "    results[\"SFR STAGE\"],\n",
    "    lw=0.75,\n",
    "    ls=\":\",\n",
    "    color=\"black\",\n",
    "    label=\"Reach stage\",\n",
    ")\n",
    "ax.plot(\n",
    "    results[\"time\"],\n",
    "    results[\"A\"],\n",
    "    lw=0.75,\n",
    "    ls=\"-\",\n",
    "    color=\"0.5\",\n",
    "    label=\"Point A\",\n",
    ")\n",
    "ax.plot(\n",
    "    results[\"time\"],\n",
    "    results[\"B\"],\n",
    "    lw=0.75,\n",
    "    ls=\"-\",\n",
    "    color=\"black\",\n",
    "    label=\"Point B\",\n",
    ")\n",
    "ax.set_xlabel(\"Simulation time, in days\")\n",
    "ax.set_ylabel(\"Head or stage, in feet\")\n",
    "plt.legend(loc=\"lower right\")\n",
    "\n",
    "plt.show()\n"
   ]
  },
  {
   "cell_type": "markdown",
   "id": "3d23f3d4",
   "metadata": {},
   "source": [
    "#### Plot the SFR flow observations"
   ]
  },
  {
   "cell_type": "code",
   "execution_count": null,
   "id": "768f009b",
   "metadata": {},
   "outputs": [],
   "source": [
    "dtype = [\n",
    "    (\"time\", float),\n",
    "    (\"OUTFLOW\", float),\n",
    "    (\"BASEFLOW\", float),\n",
    "]\n",
    "\n",
    "results = np.zeros((sfr_results.shape[0] + 1), dtype=dtype)\n",
    "results[\"time\"][1:] = sfr_results[\"totim\"]\n",
    "results[\"OUTFLOW\"][1:] = sfr_results[\"OUTFLOW\"]\n",
    "results[\"BASEFLOW\"][1:] = sfr_results[\"BASEFLOW\"]\n",
    "\n",
    "# create the figure\n",
    "fig, ax = plt.subplots(\n",
    "    ncols=1,\n",
    "    nrows=1,\n",
    "    sharex=True,\n",
    "    figsize=(6.3, 3.15),\n",
    "    constrained_layout=True,\n",
    ")\n",
    "\n",
    "ax.set_xlim(0, 3000)\n",
    "# ax.set_ylim(110, 160)\n",
    "ax.plot(\n",
    "    results[\"time\"],\n",
    "    results[\"OUTFLOW\"],\n",
    "    lw=0.75,\n",
    "    ls=\"--\",\n",
    "    color=\"black\",\n",
    "    label=\"Reach outflow\",\n",
    ")\n",
    "ax.plot(\n",
    "    results[\"time\"],\n",
    "    results[\"BASEFLOW\"],\n",
    "    lw=0.75,\n",
    "    ls=\":\",\n",
    "    color=\"black\",\n",
    "    label=\"Reach baseflow\",\n",
    ")\n",
    "ax.set_xlabel(\"Simulation time, in days\")\n",
    "ax.set_ylabel(\"Flow, in feet per day\")\n",
    "plt.legend(loc=\"lower right\")\n",
    "\n",
    "plt.show()"
   ]
  },
  {
   "cell_type": "code",
   "execution_count": null,
   "id": "b848b16a",
   "metadata": {},
   "outputs": [],
   "source": []
  },
  {
   "cell_type": "code",
   "execution_count": null,
   "id": "cdfcbb5e-65e2-4c9e-bd20-5ebe3e21ca06",
   "metadata": {},
   "outputs": [],
   "source": []
  }
 ],
 "metadata": {
  "jupytext": {
   "cell_metadata_filter": "-all"
  },
  "kernelspec": {
   "display_name": "Python 3 (ipykernel)",
   "language": "python",
   "name": "python3"
  },
  "language_info": {
   "codemirror_mode": {
    "name": "ipython",
    "version": 3
   },
   "file_extension": ".py",
   "mimetype": "text/x-python",
   "name": "python",
   "nbconvert_exporter": "python",
   "pygments_lexer": "ipython3",
   "version": "3.12.0"
  }
 },
 "nbformat": 4,
 "nbformat_minor": 5
}
